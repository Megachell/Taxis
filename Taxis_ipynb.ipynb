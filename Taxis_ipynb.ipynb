{
  "nbformat": 4,
  "nbformat_minor": 0,
  "metadata": {
    "colab": {
      "name": "Копия блокнота \"Taxis.ipynb\"",
      "provenance": [],
      "mount_file_id": "1aCN7hOfBwe_sq8QwD8gPpKg9MNpvQxrH",
      "authorship_tag": "ABX9TyOkCnzytPJ9Olw4TxH/S7Py",
      "include_colab_link": true
    },
    "kernelspec": {
      "name": "python3",
      "display_name": "Python 3"
    }
  },
  "cells": [
    {
      "cell_type": "markdown",
      "metadata": {
        "id": "view-in-github",
        "colab_type": "text"
      },
      "source": [
        "<a href=\"https://colab.research.google.com/github/Megachell/Taxis/blob/main/Taxis_ipynb.ipynb\" target=\"_parent\"><img src=\"https://colab.research.google.com/assets/colab-badge.svg\" alt=\"Open In Colab\"/></a>"
      ]
    },
    {
      "cell_type": "markdown",
      "metadata": {
        "id": "XuefH2bmASlH"
      },
      "source": [
        "After every taxi ride I receive an email containing various information about my ride, including car model, drivers' name and so on. The idea is to analyze these reports and extract some information like how many times have I had a ride with the same driver or on the same car."
      ]
    },
    {
      "cell_type": "code",
      "metadata": {
        "id": "fEw1UrEBkb3m",
        "colab": {
          "base_uri": "https://localhost:8080/"
        },
        "outputId": "70310480-5adf-4c34-dbe2-139d277bff6e"
      },
      "source": [
        "!pip install ibm_db"
      ],
      "execution_count": 1,
      "outputs": [
        {
          "output_type": "stream",
          "text": [
            "Collecting ibm_db\n",
            "\u001b[?25l  Downloading https://files.pythonhosted.org/packages/dc/7c/26c1eb0ce78689a6a6775337b43f498f8e901790ec0bafd6f24e2ef594af/ibm_db-3.0.4.tar.gz (796kB)\n",
            "\u001b[K     |████████████████████████████████| 798kB 4.2MB/s \n",
            "\u001b[?25hBuilding wheels for collected packages: ibm-db\n",
            "  Building wheel for ibm-db (setup.py) ... \u001b[?25l\u001b[?25hdone\n",
            "  Created wheel for ibm-db: filename=ibm_db-3.0.4-cp37-cp37m-linux_x86_64.whl size=40999786 sha256=c7902c28554a06758ed6061b018f844120b41292d771e2ae469fd6caaa9b944d\n",
            "  Stored in directory: /root/.cache/pip/wheels/d9/85/7a/07dd5eba2f2d6a040be8aefb2b5051b0408c7f997259b5756b\n",
            "Successfully built ibm-db\n",
            "Installing collected packages: ibm-db\n",
            "Successfully installed ibm-db-3.0.4\n"
          ],
          "name": "stdout"
        }
      ]
    },
    {
      "cell_type": "code",
      "metadata": {
        "colab": {
          "base_uri": "https://localhost:8080/"
        },
        "id": "cmtlXuGJ-0a9",
        "outputId": "3cae14bb-c3c4-45ff-a27a-68e527edfba4"
      },
      "source": [
        "!pip install transliterate"
      ],
      "execution_count": 51,
      "outputs": [
        {
          "output_type": "stream",
          "text": [
            "Collecting transliterate\n",
            "\u001b[?25l  Downloading https://files.pythonhosted.org/packages/a1/6e/9a9d597dbdd6d0172427c8cc07c35736471e631060df9e59eeb87687f817/transliterate-1.10.2-py2.py3-none-any.whl (45kB)\n",
            "\r\u001b[K     |███████▏                        | 10kB 12.0MB/s eta 0:00:01\r\u001b[K     |██████████████▎                 | 20kB 10.3MB/s eta 0:00:01\r\u001b[K     |█████████████████████▌          | 30kB 7.9MB/s eta 0:00:01\r\u001b[K     |████████████████████████████▋   | 40kB 6.8MB/s eta 0:00:01\r\u001b[K     |████████████████████████████████| 51kB 2.5MB/s \n",
            "\u001b[?25hRequirement already satisfied: six>=1.1.0 in /usr/local/lib/python3.7/dist-packages (from transliterate) (1.15.0)\n",
            "Installing collected packages: transliterate\n",
            "Successfully installed transliterate-1.10.2\n"
          ],
          "name": "stdout"
        }
      ]
    },
    {
      "cell_type": "code",
      "metadata": {
        "id": "bLZydx8wpzRX"
      },
      "source": [
        "import mailbox\n",
        "from IPython.core.display import HTML\n",
        "import base64\n",
        "import datetime\n",
        "import pandas as pd\n",
        "import re\n",
        "import matplotlib.pyplot as plt\n",
        "import numpy as np\n",
        "from scipy.optimize import minimize\n",
        "import ibm_db\n",
        "import ibm_db_dbi\n",
        "from bs4 import BeautifulSoup\n",
        "from transliterate import translit, get_available_language_codes"
      ],
      "execution_count": 52,
      "outputs": []
    },
    {
      "cell_type": "markdown",
      "metadata": {
        "id": "ViKDD3IA15Qt"
      },
      "source": [
        "### Parse the mailbox"
      ]
    },
    {
      "cell_type": "code",
      "metadata": {
        "id": "3cNZDLImmv9I"
      },
      "source": [
        "mbox = mailbox.mbox('/content/drive/MyDrive/Takeout/Inbox.mbox')"
      ],
      "execution_count": 5,
      "outputs": []
    },
    {
      "cell_type": "code",
      "metadata": {
        "id": "qy-bZ6l4m_tC",
        "colab": {
          "base_uri": "https://localhost:8080/"
        },
        "outputId": "d635261c-df29-4f86-d59e-a6748d6be6ba"
      },
      "source": [
        "# Find letters from yandex taxi\n",
        "archive = []\n",
        "for i in range(0,len(mbox)):\n",
        "  try:\n",
        "    if mbox[i]['From'].split('@')[1] == \"taxi.yandex.ru>\":\n",
        "      archive += [i]\n",
        "  except:\n",
        "    print('Error handeled in msg #{}'.format(i))"
      ],
      "execution_count": 6,
      "outputs": [
        {
          "output_type": "stream",
          "text": [
            "Error handeled in msg #613\n",
            "Error handeled in msg #1104\n",
            "Error handeled in msg #2940\n",
            "Error handeled in msg #4116\n",
            "Error handeled in msg #6697\n",
            "Error handeled in msg #8586\n",
            "Error handeled in msg #11786\n",
            "Error handeled in msg #11851\n",
            "Error handeled in msg #11994\n",
            "Error handeled in msg #13235\n",
            "Error handeled in msg #13835\n",
            "Error handeled in msg #14170\n",
            "Error handeled in msg #14307\n"
          ],
          "name": "stdout"
        }
      ]
    },
    {
      "cell_type": "code",
      "metadata": {
        "id": "1HLj9JxFljr-"
      },
      "source": [
        "# Function to convert dates from words to timestamp\n",
        "\n",
        "def to_ts(dt,tm):\n",
        "  month_num = {\"января\":1,\"февраля\":2,\"марта\":3,\"апреля\":4,\"мая\":5,\"июня\":6,\"июля\":7,\"августа\":8,\"сентября\":9,\"октября\":10,\"ноября\":11,\"декабря\":12}\n",
        "  day,month,year = dt.split(' ')\n",
        "  hour,minute = tm.split(':')\n",
        "  ts = pd.Timestamp(year = int(year),month = month_num[month], day = int(day), hour = int(hour), minute = int(minute))\n",
        "  return ts\n",
        "  \n",
        "# Extract the useful information from an email using regular expressions. \n",
        "\n",
        "def retrieve_data(plaintext_str):\n",
        "  date = re.search(r'\\d+\\s\\D+\\s\\d\\d\\d\\d',plaintext_str).group(0)\n",
        "  time = re.search(r'\\d\\d:\\d\\d',plaintext_str).group(0)\n",
        "  timestamp = to_ts(date,time)\n",
        "\n",
        "  price = re.search(r'\\d+\\s+руб',plaintext_str).group(0)\n",
        "  price = int(re.search(r'\\d+',price).group(0))\n",
        "\n",
        "  tarif = re.search(r'Тариф:\\s.+',plaintext_str).group(0)\n",
        "  tarif = re.sub(r'Тариф:\\s','',tarif)\n",
        "\n",
        "  if tarif == 'Business':\n",
        "    tarif = 'Бизнес'\n",
        "\n",
        "  time_spent_str = re.search(r'Время\\sв\\sпути:\\s.+',plaintext_str).group(0)\n",
        "  time_spent_str = re.sub(r'Время\\sв\\sпути:\\s','',time_spent_str)\n",
        "  try:\n",
        "    hours = re.search(r'\\d+\\s+ч',time_spent_str).group(0)\n",
        "    hours = int(re.search(r'\\d+',hours).group(0))\n",
        "  except:\n",
        "    hours = 0 \n",
        "  try:\n",
        "    minutes = re.search(r'\\d+\\s+мин',time_spent_str).group(0)\n",
        "    minutes = int(re.search(r'\\d+',minutes).group(0))\n",
        "  except:\n",
        "    minutes = 0\n",
        "  try:\n",
        "    seconds = re.search(r'\\d+\\s+сек',time_spent_str).group(0)\n",
        "    seconds = int(re.search(r'\\d+',seconds).group(0))\n",
        "  except:\n",
        "    seconds = 0\n",
        "  time_spent = seconds+60*minutes+3600*hours\n",
        "\n",
        "  try:\n",
        "    driver = re.search(r'Водитель:\\s\\w+\\s\\w+\\s\\w+',plaintext_str).group(0)\n",
        "    driver = re.sub(r'Водитель:\\s','',driver)\n",
        "  except:\n",
        "    driver = re.search(r'Водитель:\\s\\w+\\s\\w+',plaintext_str).group(0)\n",
        "    driver = re.sub(r'Водитель:\\s','',driver)\n",
        "\n",
        "  driver_name_only = driver.split(' ')[1]\n",
        "\n",
        "  sub_str = re.findall(r'Автомобиль:\\s.+',plaintext_str)[0].split(' ')\n",
        "  color, car, car_model ,number = sub_str[1], sub_str[2],sub_str[3], sub_str[-1]\n",
        "\n",
        "  if color == 'черный':\n",
        "    color = 'чёрный'\n",
        "\n",
        "  return {'DATE':timestamp,'PRICE': price, 'TARIF':tarif,'TIME_SPENT': time_spent,'DRIVER': driver, 'NAME': driver_name_only ,'COLOR':color,'CAR': car, 'CAR_MODEL': car_model, 'NUMBER':number}\n",
        "\n",
        "# Some emails are table-based. \n",
        "# This kind of mails are not suitable for the previous function but the information can be extracted with HTML parser.\n",
        "def retrieve_data_2(plaintext_str):\n",
        "  soup = BeautifulSoup(plaintext_str, 'html.parser')\n",
        "\n",
        "  timestamp = to_ts(soup.findAll(\"td\",{'class':'report__value'})[5].getText()[:-3],'00:00')\n",
        "\n",
        "  tarif = soup.findAll(\"td\",{'class':'report__value'})[4].getText()\n",
        "\n",
        "  if tarif == 'Business':\n",
        "    tarif = 'Бизнес'\n",
        "\n",
        "  color, car, car_model = soup.findAll(\"td\",{'class':'report__value'})[3].getText().split('\\n')[1].split(' ')\n",
        "\n",
        "  if color == 'черный':\n",
        "    color = 'чёрный'\n",
        "\n",
        "  price = int(soup.findAll(\"td\",{'class':'report__value'})[1].getText()[:-2])\n",
        "  driver = soup.find(\"p\",{'class':'details__value'}).getText()\n",
        "  driver_name_only = driver.split(' ')[1]\n",
        "  number = soup.find(\"p\",{'class':'car-number'}).getText()\n",
        "  time_spent_str = soup.find(\"p\",{'class':'ride-time'}).getText()\n",
        "  try:\n",
        "    hours = re.search(r'\\d+\\s+ч',time_spent_str).group(0)\n",
        "    hours = int(re.search(r'\\d+',hours).group(0))\n",
        "  except:\n",
        "    hours = 0 \n",
        "  try:\n",
        "    minutes = re.search(r'\\d+\\s+мин',time_spent_str).group(0)\n",
        "    minutes = int(re.search(r'\\d+',minutes).group(0))\n",
        "  except:\n",
        "    minutes = 0\n",
        "  try:\n",
        "    seconds = re.search(r'\\d+\\s+сек',time_spent_str).group(0)\n",
        "    seconds = int(re.search(r'\\d+',seconds).group(0))\n",
        "  except:\n",
        "    seconds = 0\n",
        "  time_spent = seconds+60*minutes+3600*hours\n",
        "\n",
        "  return {'DATE':timestamp,'PRICE': price, 'TARIF':tarif,'TIME_SPENT': time_spent,'DRIVER': driver,'NAME': driver_name_only ,'COLOR':color, 'CAR': car, 'CAR_MODEL': car_model, 'NUMBER':number}"
      ],
      "execution_count": 21,
      "outputs": []
    },
    {
      "cell_type": "code",
      "metadata": {
        "colab": {
          "base_uri": "https://localhost:8080/"
        },
        "id": "qtlaNo3Dfihc",
        "outputId": "67e66c1b-b62f-47d4-a2c1-c621a3e9ea62"
      },
      "source": [
        "# Load info to the dataframe\n",
        "df = pd.DataFrame(columns=('DATE', 'PRICE', 'TARIF', 'TIME_SPENT', 'DRIVER', 'NAME', 'COLOR', 'CAR', 'CAR_MODEL', 'NUMBER'))\n",
        "t = 0\n",
        "k = 0\n",
        "exceptions = []\n",
        "for i in archive:\n",
        "  try:\n",
        "    message = mbox[i]\n",
        "    body = message.get_payload()[0]\n",
        "    plaintext_bytes = base64.b64decode(max(str(body).split('\\n\\n'), key=len))\n",
        "    plaintext_str = plaintext_bytes.decode('utf-8')\n",
        "    try:\n",
        "      df = df.append(retrieve_data(plaintext_str), ignore_index=True)\n",
        "    except:\n",
        "      df = df.append(retrieve_data_2(plaintext_str), ignore_index=True)\n",
        "    k += 1\n",
        "  except:\n",
        "    exceptions += [i]\n",
        "    t += 1\n",
        "print(\"{} rides sucсessfully added, {} exceptions\".format(k,t))"
      ],
      "execution_count": 22,
      "outputs": [
        {
          "output_type": "stream",
          "text": [
            "1346 rides sucсessfully added, 5 exceptions\n"
          ],
          "name": "stdout"
        }
      ]
    },
    {
      "cell_type": "code",
      "metadata": {
        "id": "nLUKKtdKBsbI",
        "colab": {
          "base_uri": "https://localhost:8080/"
        },
        "outputId": "bf7a6a9f-adee-4bf9-dce1-f1724440fc9f"
      },
      "source": [
        "df['NAME_HASH'] = 0\n",
        "for i in df.index:\n",
        "  df['NAME_HASH'].loc[i] = hash(df['DRIVER'].loc[i])"
      ],
      "execution_count": 9,
      "outputs": [
        {
          "output_type": "stream",
          "text": [
            "/usr/local/lib/python3.7/dist-packages/pandas/core/indexing.py:670: SettingWithCopyWarning: \n",
            "A value is trying to be set on a copy of a slice from a DataFrame\n",
            "\n",
            "See the caveats in the documentation: https://pandas.pydata.org/pandas-docs/stable/user_guide/indexing.html#returning-a-view-versus-a-copy\n",
            "  iloc._setitem_with_indexer(indexer, value)\n"
          ],
          "name": "stderr"
        }
      ]
    },
    {
      "cell_type": "markdown",
      "metadata": {
        "id": "GZeHGUZo8YID"
      },
      "source": [
        "Export data to the dataframe, so it will be easier to access it in the future/"
      ]
    },
    {
      "cell_type": "code",
      "metadata": {
        "id": "EkfVr82g29Aa"
      },
      "source": [
        "file = open(\"/content/drive/MyDrive/Colab Notebooks/creds.txt\", 'r')\n",
        "creds = file.read()\n",
        "file.close()"
      ],
      "execution_count": null,
      "outputs": []
    },
    {
      "cell_type": "code",
      "metadata": {
        "id": "O6GqEfxnF8Hx",
        "colab": {
          "base_uri": "https://localhost:8080/"
        },
        "outputId": "9039f01d-b587-4c7d-bc40-2ef945e3881d"
      },
      "source": [
        "connection = ibm_db.connect(creds, '', '')\n",
        "stmnt = \"create table TAXIS(ID int primary key not null, Date varchar(60), Price int, Tarif varchar(60), Time_spent int, Driver varchar(100), Name varchar(100), Color varchar(60),Car varchar(60), Car_model varchar(60), Number varchar(60), NAME_HASH bigint)\"\n",
        "ibm_db.exec_immediate(connection, stmnt)\n",
        "query = 'insert into TAXIS (ID, Date, Price, Tarif, Time_spent, Driver, Name, Color, Car, Car_model, Number, Name_Hash)\\n values\\n'\n",
        "for i in df.index:\n",
        "  query += \"({},'{DATE}',{PRICE},'{TARIF}','{TIME_SPENT}','{DRIVER}','{NAME}','{COLOR}','{CAR}','{CAR_MODEL}','{NUMBER}','{NAME_HASH}'),\\n\".format(i,**df.loc[i])\n",
        "query = query[:-2]\n",
        "ibm_db.exec_immediate(connection, query.replace(\"Cee'd\",\"Cee''d\"))\n",
        "ibm_db.close(connection)"
      ],
      "execution_count": null,
      "outputs": [
        {
          "output_type": "execute_result",
          "data": {
            "text/plain": [
              "True"
            ]
          },
          "metadata": {
            "tags": []
          },
          "execution_count": 52
        }
      ]
    },
    {
      "cell_type": "markdown",
      "metadata": {
        "id": "V1bXBrBy2Ias"
      },
      "source": [
        "### Lets have a look at the rides"
      ]
    },
    {
      "cell_type": "markdown",
      "metadata": {
        "id": "tT7Gli_uPtFH"
      },
      "source": [
        "Load date from the database. In the future it is reasonable to start from here, and not parse the emails all every time."
      ]
    },
    {
      "cell_type": "code",
      "metadata": {
        "id": "YD5JlcjEmhcf"
      },
      "source": [
        "file = open(\"/content/drive/MyDrive/Colab Notebooks/creds.txt\", 'r')\n",
        "creds = file.read()\n",
        "file.close()\n",
        "connection = ibm_db.connect(creds, '', '')\n",
        "conn = ibm_db_dbi.Connection(connection)\n",
        "df = pd.read_sql('select * from TAXIS',conn, index_col='ID')\n",
        "ibm_db.close(connection)"
      ],
      "execution_count": null,
      "outputs": []
    },
    {
      "cell_type": "code",
      "metadata": {
        "colab": {
          "base_uri": "https://localhost:8080/",
          "height": 296
        },
        "id": "vPyp7rTw2aU3",
        "outputId": "88e743e8-ca07-4c80-bcf8-67d595a75a36"
      },
      "source": [
        "#@title Rides cost istogram\n",
        "plt.hist(x=df['PRICE'], bins = 30)\n",
        "plt.grid(which='major', axis='both')\n",
        "plt.xticks(rotation=45)\n",
        "plt.xlabel('Cost (rub)')\n",
        "plt.ylabel('Number')\n",
        "plt.show()"
      ],
      "execution_count": 25,
      "outputs": [
        {
          "output_type": "display_data",
          "data": {
            "image/png": "[encoded data removed]",
            "text/plain": [
              "<Figure size 432x288 with 1 Axes>"
            ]
          },
          "metadata": {
            "tags": [],
            "needs_background": "light"
          }
        }
      ]
    },
    {
      "cell_type": "code",
      "metadata": {
        "colab": {
          "base_uri": "https://localhost:8080/",
          "height": 446
        },
        "id": "5Cy9FOe3lOyM",
        "outputId": "9ac2b77b-7a03-4313-949f-91fa0b78e86b"
      },
      "source": [
        "#@title Rides become more expensive with time\n",
        "Row = df.sort_values(by=['DATE'])[['DATE','PRICE']]\n",
        "plt.figure(figsize=(12,7))\n",
        "plt.ylim(0,1000)\n",
        "plt.scatter(Row['DATE'],Row['PRICE'], s=10)\n",
        "plt.grid(which='major', axis='both')\n",
        "plt.xlabel('Date')\n",
        "plt.ylabel('Cost (rub)')\n",
        "plt.show()"
      ],
      "execution_count": 26,
      "outputs": [
        {
          "output_type": "display_data",
          "data": {
            "image/png": "[encoded data removed]",
            "text/plain": [
              "<Figure size 864x504 with 1 Axes>"
            ]
          },
          "metadata": {
            "tags": [],
            "needs_background": "light"
          }
        }
      ]
    },
    {
      "cell_type": "code",
      "metadata": {
        "colab": {
          "base_uri": "https://localhost:8080/",
          "height": 279
        },
        "id": "mzD8kY4XpEUj",
        "outputId": "0a2b419e-6e4d-4f1d-f79f-ce28a6ab2912"
      },
      "source": [
        "#@title I usually take taxi to ither get to work or return home. The narrow peak are rides to work, the wide one - return rides.\n",
        "plt.hist(df['DATE'].apply(lambda x: x.hour), bins = 24)\n",
        "plt.grid(which='major', axis='both')\n",
        "plt.xlabel('Time')\n",
        "plt.ylabel('Number if rides')\n",
        "plt.show()"
      ],
      "execution_count": 30,
      "outputs": [
        {
          "output_type": "display_data",
          "data": {
            "image/png": "[encoded data removed]",
            "text/plain": [
              "<Figure size 432x288 with 1 Axes>"
            ]
          },
          "metadata": {
            "tags": [],
            "needs_background": "light"
          }
        }
      ]
    },
    {
      "cell_type": "code",
      "metadata": {
        "colab": {
          "base_uri": "https://localhost:8080/"
        },
        "id": "7syLPWxnzyPT",
        "outputId": "6b77bf0f-81d2-485a-94d9-c48767cc6683"
      },
      "source": [
        "#@title It's almost round score\n",
        "tt = df['TIME_SPENT'].sum()\n",
        "days = tt//86400\n",
        "tt -= days*88500\n",
        "hours = tt//3600\n",
        "tt-= hours*3600\n",
        "minutes = tt//60\n",
        "tt-= minutes*60 \n",
        "print('I have spent {} days, {} hours, {} minutes, {} seconds in taxis'.format(days,hours,minutes,tt))"
      ],
      "execution_count": 31,
      "outputs": [
        {
          "output_type": "stream",
          "text": [
            "I have spent 16 days, 0 hours, 2 minutes, 44 seconds in taxis\n"
          ],
          "name": "stdout"
        }
      ]
    },
    {
      "cell_type": "code",
      "metadata": {
        "colab": {
          "base_uri": "https://localhost:8080/",
          "height": 280
        },
        "id": "A1ZUrnfUdplz",
        "outputId": "3ffafc1a-a563-413b-f8d1-91070a0b6a9d"
      },
      "source": [
        "#@title The majority of the rides are shorter than 20 minutes\n",
        "plt.hist(df['TIME_SPENT']/60, bins = 20)\n",
        "plt.grid(which='major', axis='both')\n",
        "plt.xlabel('Duration')\n",
        "plt.ylabel('Number if rides')\n",
        "plt.show()"
      ],
      "execution_count": 33,
      "outputs": [
        {
          "output_type": "display_data",
          "data": {
            "image/png": "[encoded data removed]",
            "text/plain": [
              "<Figure size 432x288 with 1 Axes>"
            ]
          },
          "metadata": {
            "tags": [],
            "needs_background": "light"
          }
        }
      ]
    },
    {
      "cell_type": "code",
      "metadata": {
        "colab": {
          "base_uri": "https://localhost:8080/",
          "height": 334
        },
        "id": "pFeK0FPhvxB7",
        "outputId": "317103ff-865d-4501-dd34-02dadffed695"
      },
      "source": [
        "#@title This is how frequently i took taxi over the years. Pandemic made me set a new record.\n",
        "\n",
        "plt.figure(figsize=(12,5))\n",
        "plt.grid(which='major', axis='both')\n",
        "plt.hist(df['DATE'], bins=100)\n",
        "plt.xlabel('Date')\n",
        "plt.ylabel('Number if rides')\n",
        "plt.show()"
      ],
      "execution_count": 35,
      "outputs": [
        {
          "output_type": "display_data",
          "data": {
            "image/png": "[encoded data removed]",
            "text/plain": [
              "<Figure size 864x360 with 1 Axes>"
            ]
          },
          "metadata": {
            "tags": [],
            "needs_background": "light"
          }
        }
      ]
    },
    {
      "cell_type": "code",
      "metadata": {
        "colab": {
          "base_uri": "https://localhost:8080/",
          "height": 378
        },
        "id": "xZqxnuBqxkm6",
        "outputId": "5ca74847-1723-4093-b16e-a560539ec4ce"
      },
      "source": [
        "#@title The most popular tarifs\n",
        "m = df['TARIF'].value_counts()\n",
        "plt.figure(figsize=(10,5))\n",
        "tarif_translate = {'Эконом': 'Economy', 'Комфорт+':'Comfort+', 'Комфорт':'Comfort', 'Бизнес':'Business', 'Экспресс':'Express', 'Детский':'With children', 'Минивэн':'Minivan'}\n",
        "labels = [tarif_translate[i] for i in m.keys()]\n",
        "plt.bar(x=labels, height = m.values)\n",
        "plt.grid(which='major', axis='both')\n",
        "plt.xticks(rotation=45)\n",
        "plt.xlabel('Tarif')\n",
        "plt.ylabel('Number of rides')\n",
        "plt.show()"
      ],
      "execution_count": 57,
      "outputs": [
        {
          "output_type": "display_data",
          "data": {
            "image/png": "[encoded data removed]",
            "text/plain": [
              "<Figure size 720x360 with 1 Axes>"
            ]
          },
          "metadata": {
            "tags": [],
            "needs_background": "light"
          }
        }
      ]
    },
    {
      "cell_type": "code",
      "metadata": {
        "colab": {
          "base_uri": "https://localhost:8080/",
          "height": 384
        },
        "id": "UNCR1oH22mrS",
        "outputId": "cac7f2c3-93ec-450b-ffc0-185bd44caea3"
      },
      "source": [
        "#@title The most popular cars\n",
        "m = df['CAR'].value_counts()\n",
        "plt.figure(figsize=(12,5))\n",
        "plt.bar(x=m.keys(), height = m.values)\n",
        "plt.grid(which='major', axis='both')\n",
        "plt.xticks(rotation=45)\n",
        "plt.xlabel('Car brand')\n",
        "plt.ylabel('Number of rides')\n",
        "plt.show()"
      ],
      "execution_count": 40,
      "outputs": [
        {
          "output_type": "display_data",
          "data": {
            "image/png": "[encoded data removed]",
            "text/plain": [
              "<Figure size 864x360 with 1 Axes>"
            ]
          },
          "metadata": {
            "tags": [],
            "needs_background": "light"
          }
        }
      ]
    },
    {
      "cell_type": "code",
      "metadata": {
        "colab": {
          "base_uri": "https://localhost:8080/",
          "height": 305
        },
        "id": "RVFLSPHlO81I",
        "outputId": "9ca7354e-17ed-440c-8684-f0a69ffdc7a9"
      },
      "source": [
        "#@title The most poular kias\n",
        "m = df[df['CAR'] == 'Kia']['CAR_MODEL'].value_counts()\n",
        "plt.bar(x=m.keys(), height = m.values)\n",
        "plt.grid(which='major', axis='both')\n",
        "plt.xticks(rotation=45)\n",
        "plt.xlabel('Model')\n",
        "plt.ylabel('Number of rides')\n",
        "plt.show()"
      ],
      "execution_count": 41,
      "outputs": [
        {
          "output_type": "display_data",
          "data": {
            "image/png": "[encoded data removed]",
            "text/plain": [
              "<Figure size 432x288 with 1 Axes>"
            ]
          },
          "metadata": {
            "tags": [],
            "needs_background": "light"
          }
        }
      ]
    },
    {
      "cell_type": "code",
      "metadata": {
        "colab": {
          "base_uri": "https://localhost:8080/",
          "height": 366
        },
        "id": "pd0kaqUpYqL1",
        "outputId": "ea701901-7f99-4dc7-892f-78cdd15d3943"
      },
      "source": [
        "#@title The most popular colors\n",
        "m = df['COLOR'].value_counts()\n",
        "plt.figure(figsize=(10,5))\n",
        "translate = {'жёлтый': 'Yellow', 'белый': 'White', 'чёрный': 'Black', 'желтый': 'Yellow', 'серый': 'Gray', 'серебристый':'silver',\n",
        "       'бежевый':'Beige', 'зелёный':'Green', 'темно-серый':'Dark grey', 'синий':'blue', 'голубой':'Light blue'}\n",
        "labels = [translate[i] for i in m.keys()]\n",
        "plt.bar(x=labels, height = m.values)\n",
        "plt.grid(which='major', axis='both')\n",
        "plt.xticks(rotation=45)\n",
        "plt.xlabel('Color')\n",
        "plt.ylabel('Number of rides')\n",
        "plt.show()"
      ],
      "execution_count": 50,
      "outputs": [
        {
          "output_type": "display_data",
          "data": {
            "image/png": "[encoded data removed]",
            "text/plain": [
              "<Figure size 720x360 with 1 Axes>"
            ]
          },
          "metadata": {
            "tags": [],
            "needs_background": "light"
          }
        }
      ]
    },
    {
      "cell_type": "markdown",
      "metadata": {
        "id": "874m3Ebv4Txd"
      },
      "source": [
        "### Coinsidence? I think not!"
      ]
    },
    {
      "cell_type": "markdown",
      "metadata": {
        "id": "nEmHClKu4sx4"
      },
      "source": [
        "How many time did I ride with the same driver?"
      ]
    },
    {
      "cell_type": "code",
      "metadata": {
        "id": "F0ItEMP0U-mX"
      },
      "source": [
        "df_drivers = pd.DataFrame(columns=('Year', 'Driver', 'Tarif', 'Delta_days', 'Same_car', 'Same_tarif'))\n",
        "m = df['DRIVER'].value_counts()\n",
        "for driver in m[m.values >= 2].keys():\n",
        "  ind = df[df['DRIVER'] == driver].index\n",
        "  tarif = df['TARIF'][ind[0]]\n",
        "  year = pd.to_datetime(df['DATE'][ind[0]]).year\n",
        "  time_left = abs((pd.to_datetime(df['DATE'][ind[0]]) - pd.to_datetime(df['DATE'][ind[1]])).days)\n",
        "  same_car = df['NUMBER'][ind[0]] == df['NUMBER'][ind[1]]\n",
        "  same_tarif = df['TARIF'][ind[0]] == df['TARIF'][ind[1]]\n",
        "  df_drivers = df_drivers.append({'Year': year,\n",
        "                                  'Driver': driver.split(' ')[1],\n",
        "                                  'Tarif': tarif,\n",
        "                                  'Delta_days': time_left,\n",
        "                                  'Same_car':same_car,\n",
        "                                  'Same_tarif': same_tarif},\n",
        "                                  ignore_index=True)\n",
        "df_drivers['Driver'] = df_drivers['Driver'].apply(lambda x: translit(x, 'ru', reversed=True))\n",
        "df_drivers['Tarif'] = df_drivers['Tarif'].apply(lambda x: tarif_translate[x])"
      ],
      "execution_count": 54,
      "outputs": []
    },
    {
      "cell_type": "code",
      "metadata": {
        "colab": {
          "base_uri": "https://localhost:8080/",
          "height": 824
        },
        "id": "zNsr8QAR-B5h",
        "outputId": "f565c74c-4810-4148-ae2b-f75c591ed920"
      },
      "source": [
        "df_drivers"
      ],
      "execution_count": 59,
      "outputs": [
        {
          "output_type": "execute_result",
          "data": {
            "text/html": [
              "<div>\n",
              "<style scoped>\n",
              "    .dataframe tbody tr th:only-of-type {\n",
              "        vertical-align: middle;\n",
              "    }\n",
              "\n",
              "    .dataframe tbody tr th {\n",
              "        vertical-align: top;\n",
              "    }\n",
              "\n",
              "    .dataframe thead th {\n",
              "        text-align: right;\n",
              "    }\n",
              "</style>\n",
              "<table border=\"1\" class=\"dataframe\">\n",
              "  <thead>\n",
              "    <tr style=\"text-align: right;\">\n",
              "      <th></th>\n",
              "      <th>Year</th>\n",
              "      <th>Driver</th>\n",
              "      <th>Tarif</th>\n",
              "      <th>Delta_days</th>\n",
              "      <th>Same_car</th>\n",
              "      <th>Same_tarif</th>\n",
              "    </tr>\n",
              "  </thead>\n",
              "  <tbody>\n",
              "    <tr>\n",
              "      <th>0</th>\n",
              "      <td>2020</td>\n",
              "      <td>Mamuka</td>\n",
              "      <td>Comfort+</td>\n",
              "      <td>6</td>\n",
              "      <td>True</td>\n",
              "      <td>True</td>\n",
              "    </tr>\n",
              "    <tr>\n",
              "      <th>1</th>\n",
              "      <td>2020</td>\n",
              "      <td>Ivan</td>\n",
              "      <td>Comfort+</td>\n",
              "      <td>737</td>\n",
              "      <td>False</td>\n",
              "      <td>False</td>\n",
              "    </tr>\n",
              "    <tr>\n",
              "      <th>2</th>\n",
              "      <td>2017</td>\n",
              "      <td>Mamadali</td>\n",
              "      <td>Economy</td>\n",
              "      <td>297</td>\n",
              "      <td>False</td>\n",
              "      <td>True</td>\n",
              "    </tr>\n",
              "    <tr>\n",
              "      <th>3</th>\n",
              "      <td>2020</td>\n",
              "      <td>Igor'</td>\n",
              "      <td>Comfort+</td>\n",
              "      <td>918</td>\n",
              "      <td>False</td>\n",
              "      <td>False</td>\n",
              "    </tr>\n",
              "    <tr>\n",
              "      <th>4</th>\n",
              "      <td>2020</td>\n",
              "      <td>Aleksandr</td>\n",
              "      <td>Comfort+</td>\n",
              "      <td>6</td>\n",
              "      <td>True</td>\n",
              "      <td>True</td>\n",
              "    </tr>\n",
              "    <tr>\n",
              "      <th>5</th>\n",
              "      <td>2017</td>\n",
              "      <td>Vadim</td>\n",
              "      <td>Economy</td>\n",
              "      <td>156</td>\n",
              "      <td>False</td>\n",
              "      <td>True</td>\n",
              "    </tr>\n",
              "    <tr>\n",
              "      <th>6</th>\n",
              "      <td>2018</td>\n",
              "      <td>Aleksandr</td>\n",
              "      <td>Economy</td>\n",
              "      <td>57</td>\n",
              "      <td>False</td>\n",
              "      <td>True</td>\n",
              "    </tr>\n",
              "    <tr>\n",
              "      <th>7</th>\n",
              "      <td>2019</td>\n",
              "      <td>Denis</td>\n",
              "      <td>Comfort+</td>\n",
              "      <td>524</td>\n",
              "      <td>True</td>\n",
              "      <td>True</td>\n",
              "    </tr>\n",
              "    <tr>\n",
              "      <th>8</th>\n",
              "      <td>2020</td>\n",
              "      <td>Sergej</td>\n",
              "      <td>Comfort+</td>\n",
              "      <td>11</td>\n",
              "      <td>True</td>\n",
              "      <td>True</td>\n",
              "    </tr>\n",
              "    <tr>\n",
              "      <th>9</th>\n",
              "      <td>2017</td>\n",
              "      <td>Sergej</td>\n",
              "      <td>Economy</td>\n",
              "      <td>326</td>\n",
              "      <td>False</td>\n",
              "      <td>True</td>\n",
              "    </tr>\n",
              "    <tr>\n",
              "      <th>10</th>\n",
              "      <td>2020</td>\n",
              "      <td>Aleksandr</td>\n",
              "      <td>Comfort+</td>\n",
              "      <td>127</td>\n",
              "      <td>True</td>\n",
              "      <td>True</td>\n",
              "    </tr>\n",
              "    <tr>\n",
              "      <th>11</th>\n",
              "      <td>2017</td>\n",
              "      <td>Shuhrat</td>\n",
              "      <td>Economy</td>\n",
              "      <td>137</td>\n",
              "      <td>False</td>\n",
              "      <td>True</td>\n",
              "    </tr>\n",
              "    <tr>\n",
              "      <th>12</th>\n",
              "      <td>2019</td>\n",
              "      <td>Denis</td>\n",
              "      <td>Comfort+</td>\n",
              "      <td>25</td>\n",
              "      <td>True</td>\n",
              "      <td>True</td>\n",
              "    </tr>\n",
              "    <tr>\n",
              "      <th>13</th>\n",
              "      <td>2019</td>\n",
              "      <td>Sergej</td>\n",
              "      <td>Comfort+</td>\n",
              "      <td>0</td>\n",
              "      <td>True</td>\n",
              "      <td>True</td>\n",
              "    </tr>\n",
              "    <tr>\n",
              "      <th>14</th>\n",
              "      <td>2017</td>\n",
              "      <td>Dmitrij</td>\n",
              "      <td>Economy</td>\n",
              "      <td>107</td>\n",
              "      <td>False</td>\n",
              "      <td>True</td>\n",
              "    </tr>\n",
              "    <tr>\n",
              "      <th>15</th>\n",
              "      <td>2018</td>\n",
              "      <td>Jurij</td>\n",
              "      <td>Economy</td>\n",
              "      <td>94</td>\n",
              "      <td>True</td>\n",
              "      <td>True</td>\n",
              "    </tr>\n",
              "    <tr>\n",
              "      <th>16</th>\n",
              "      <td>2020</td>\n",
              "      <td>Nikolaj</td>\n",
              "      <td>Comfort+</td>\n",
              "      <td>16</td>\n",
              "      <td>True</td>\n",
              "      <td>True</td>\n",
              "    </tr>\n",
              "    <tr>\n",
              "      <th>17</th>\n",
              "      <td>2017</td>\n",
              "      <td>Ashot</td>\n",
              "      <td>Economy</td>\n",
              "      <td>21</td>\n",
              "      <td>False</td>\n",
              "      <td>True</td>\n",
              "    </tr>\n",
              "    <tr>\n",
              "      <th>18</th>\n",
              "      <td>2019</td>\n",
              "      <td>Vitalij</td>\n",
              "      <td>Comfort+</td>\n",
              "      <td>81</td>\n",
              "      <td>True</td>\n",
              "      <td>True</td>\n",
              "    </tr>\n",
              "    <tr>\n",
              "      <th>19</th>\n",
              "      <td>2018</td>\n",
              "      <td>Vitalij</td>\n",
              "      <td>Economy</td>\n",
              "      <td>84</td>\n",
              "      <td>True</td>\n",
              "      <td>True</td>\n",
              "    </tr>\n",
              "    <tr>\n",
              "      <th>20</th>\n",
              "      <td>2018</td>\n",
              "      <td>Avazbek</td>\n",
              "      <td>Economy</td>\n",
              "      <td>59</td>\n",
              "      <td>True</td>\n",
              "      <td>True</td>\n",
              "    </tr>\n",
              "    <tr>\n",
              "      <th>21</th>\n",
              "      <td>2017</td>\n",
              "      <td>Aleksej</td>\n",
              "      <td>Economy</td>\n",
              "      <td>37</td>\n",
              "      <td>True</td>\n",
              "      <td>True</td>\n",
              "    </tr>\n",
              "    <tr>\n",
              "      <th>22</th>\n",
              "      <td>2020</td>\n",
              "      <td>Sergej</td>\n",
              "      <td>Comfort+</td>\n",
              "      <td>0</td>\n",
              "      <td>True</td>\n",
              "      <td>True</td>\n",
              "    </tr>\n",
              "    <tr>\n",
              "      <th>23</th>\n",
              "      <td>2017</td>\n",
              "      <td>Sergej</td>\n",
              "      <td>Economy</td>\n",
              "      <td>99</td>\n",
              "      <td>False</td>\n",
              "      <td>True</td>\n",
              "    </tr>\n",
              "    <tr>\n",
              "      <th>24</th>\n",
              "      <td>2020</td>\n",
              "      <td>Vladimir</td>\n",
              "      <td>Comfort+</td>\n",
              "      <td>0</td>\n",
              "      <td>True</td>\n",
              "      <td>True</td>\n",
              "    </tr>\n",
              "  </tbody>\n",
              "</table>\n",
              "</div>"
            ],
            "text/plain": [
              "    Year     Driver     Tarif Delta_days Same_car Same_tarif\n",
              "0   2020     Mamuka  Comfort+          6     True       True\n",
              "1   2020       Ivan  Comfort+        737    False      False\n",
              "2   2017   Mamadali   Economy        297    False       True\n",
              "3   2020      Igor'  Comfort+        918    False      False\n",
              "4   2020  Aleksandr  Comfort+          6     True       True\n",
              "5   2017      Vadim   Economy        156    False       True\n",
              "6   2018  Aleksandr   Economy         57    False       True\n",
              "7   2019      Denis  Comfort+        524     True       True\n",
              "8   2020     Sergej  Comfort+         11     True       True\n",
              "9   2017     Sergej   Economy        326    False       True\n",
              "10  2020  Aleksandr  Comfort+        127     True       True\n",
              "11  2017    Shuhrat   Economy        137    False       True\n",
              "12  2019      Denis  Comfort+         25     True       True\n",
              "13  2019     Sergej  Comfort+          0     True       True\n",
              "14  2017    Dmitrij   Economy        107    False       True\n",
              "15  2018      Jurij   Economy         94     True       True\n",
              "16  2020    Nikolaj  Comfort+         16     True       True\n",
              "17  2017      Ashot   Economy         21    False       True\n",
              "18  2019    Vitalij  Comfort+         81     True       True\n",
              "19  2018    Vitalij   Economy         84     True       True\n",
              "20  2018    Avazbek   Economy         59     True       True\n",
              "21  2017    Aleksej   Economy         37     True       True\n",
              "22  2020     Sergej  Comfort+          0     True       True\n",
              "23  2017     Sergej   Economy         99    False       True\n",
              "24  2020   Vladimir  Comfort+          0     True       True"
            ]
          },
          "metadata": {
            "tags": []
          },
          "execution_count": 59
        }
      ]
    },
    {
      "cell_type": "markdown",
      "metadata": {
        "id": "RXC9SYtG43tO"
      },
      "source": [
        "Mamuka drove me 3 times, and I rode his car 4 times."
      ]
    },
    {
      "cell_type": "code",
      "metadata": {
        "colab": {
          "base_uri": "https://localhost:8080/",
          "height": 173
        },
        "id": "rvv6AkFu01Fq",
        "outputId": "2706616d-76f7-42a2-ca59-f57e38b2d913"
      },
      "source": [
        "mamuka = df[df['NUMBER'] == 'МР37077'].drop(['DRIVER', 'TIME_SPENT','PRICE'], axis='columns')\n",
        "mamuka['NAME'] = mamuka['NAME'].apply(lambda x: translit(x, 'ru', reversed=True))\n",
        "mamuka['TARIF'] = mamuka['TARIF'].apply(lambda x: tarif_translate[x])\n",
        "mamuka['COLOR'] = mamuka['COLOR'].apply(lambda x: translate[x])\n",
        "mamuka"
      ],
      "execution_count": 61,
      "outputs": [
        {
          "output_type": "execute_result",
          "data": {
            "text/html": [
              "<div>\n",
              "<style scoped>\n",
              "    .dataframe tbody tr th:only-of-type {\n",
              "        vertical-align: middle;\n",
              "    }\n",
              "\n",
              "    .dataframe tbody tr th {\n",
              "        vertical-align: top;\n",
              "    }\n",
              "\n",
              "    .dataframe thead th {\n",
              "        text-align: right;\n",
              "    }\n",
              "</style>\n",
              "<table border=\"1\" class=\"dataframe\">\n",
              "  <thead>\n",
              "    <tr style=\"text-align: right;\">\n",
              "      <th></th>\n",
              "      <th>DATE</th>\n",
              "      <th>TARIF</th>\n",
              "      <th>NAME</th>\n",
              "      <th>COLOR</th>\n",
              "      <th>CAR</th>\n",
              "      <th>CAR_MODEL</th>\n",
              "      <th>NUMBER</th>\n",
              "    </tr>\n",
              "  </thead>\n",
              "  <tbody>\n",
              "    <tr>\n",
              "      <th>19</th>\n",
              "      <td>2020-06-23 10:36:00</td>\n",
              "      <td>Comfort+</td>\n",
              "      <td>Mamuka</td>\n",
              "      <td>Yellow</td>\n",
              "      <td>Toyota</td>\n",
              "      <td>Camry</td>\n",
              "      <td>МР37077</td>\n",
              "    </tr>\n",
              "    <tr>\n",
              "      <th>20</th>\n",
              "      <td>2020-06-17 09:08:00</td>\n",
              "      <td>Comfort+</td>\n",
              "      <td>Mamuka</td>\n",
              "      <td>Yellow</td>\n",
              "      <td>Toyota</td>\n",
              "      <td>Camry</td>\n",
              "      <td>МР37077</td>\n",
              "    </tr>\n",
              "    <tr>\n",
              "      <th>63</th>\n",
              "      <td>2020-06-05 08:00:00</td>\n",
              "      <td>Comfort+</td>\n",
              "      <td>Mamuka</td>\n",
              "      <td>Yellow</td>\n",
              "      <td>Toyota</td>\n",
              "      <td>Camry</td>\n",
              "      <td>МР37077</td>\n",
              "    </tr>\n",
              "    <tr>\n",
              "      <th>289</th>\n",
              "      <td>2019-11-27 09:46:00</td>\n",
              "      <td>Comfort+</td>\n",
              "      <td>David</td>\n",
              "      <td>Yellow</td>\n",
              "      <td>Toyota</td>\n",
              "      <td>Camry</td>\n",
              "      <td>МР37077</td>\n",
              "    </tr>\n",
              "  </tbody>\n",
              "</table>\n",
              "</div>"
            ],
            "text/plain": [
              "                   DATE     TARIF    NAME   COLOR     CAR CAR_MODEL   NUMBER\n",
              "19  2020-06-23 10:36:00  Comfort+  Mamuka  Yellow  Toyota     Camry  МР37077\n",
              "20  2020-06-17 09:08:00  Comfort+  Mamuka  Yellow  Toyota     Camry  МР37077\n",
              "63  2020-06-05 08:00:00  Comfort+  Mamuka  Yellow  Toyota     Camry  МР37077\n",
              "289 2019-11-27 09:46:00  Comfort+   David  Yellow  Toyota     Camry  МР37077"
            ]
          },
          "metadata": {
            "tags": []
          },
          "execution_count": 61
        }
      ]
    },
    {
      "cell_type": "code",
      "metadata": {
        "colab": {
          "base_uri": "https://localhost:8080/",
          "height": 334
        },
        "id": "qV0aXSRyh44N",
        "outputId": "dc257472-3883-4bc4-bb55-f52e00cdbc99"
      },
      "source": [
        "#@title Haw many days does usually pass between two rides with the same driver? After 200 days it is almost impossible to meet driver again. Seems like drivers do not work in taxi for long time.\n",
        "plt.figure(figsize=(10,5))\n",
        "plt.hist(df_drivers['Delta_days'], bins = 30)\n",
        "plt.grid(which='major', axis='both')\n",
        "plt.xlabel('Time between to rides with the same driver (Days)')\n",
        "plt.ylabel('Number of rides')\n",
        "plt.show()"
      ],
      "execution_count": 63,
      "outputs": [
        {
          "output_type": "display_data",
          "data": {
            "image/png": "[encoded data removed]",
            "text/plain": [
              "<Figure size 720x360 with 1 Axes>"
            ]
          },
          "metadata": {
            "tags": [],
            "needs_background": "light"
          }
        }
      ]
    },
    {
      "cell_type": "code",
      "metadata": {
        "colab": {
          "base_uri": "https://localhost:8080/",
          "height": 173
        },
        "id": "_KRL4qIy5raA",
        "outputId": "ecf6aa20-dc3c-42cf-9f6b-dab4f419b065"
      },
      "source": [
        "#@title First I hade a ride with these guys in Economy class, after a few years I met them again in Comfort+\n",
        "comfort_plus = df.loc[[925,151,902,138]].drop(['DRIVER', 'TIME_SPENT','PRICE'], axis='columns')\n",
        "\n",
        "comfort_plus['NAME'] = comfort_plus['NAME'].apply(lambda x: translit(x, 'ru', reversed=True))\n",
        "comfort_plus['TARIF'] = comfort_plus['TARIF'].apply(lambda x: tarif_translate[x])\n",
        "comfort_plus['COLOR'] = comfort_plus['COLOR'].apply(lambda x: translate[x])\n",
        "comfort_plus"
      ],
      "execution_count": 64,
      "outputs": [
        {
          "output_type": "execute_result",
          "data": {
            "text/html": [
              "<div>\n",
              "<style scoped>\n",
              "    .dataframe tbody tr th:only-of-type {\n",
              "        vertical-align: middle;\n",
              "    }\n",
              "\n",
              "    .dataframe tbody tr th {\n",
              "        vertical-align: top;\n",
              "    }\n",
              "\n",
              "    .dataframe thead th {\n",
              "        text-align: right;\n",
              "    }\n",
              "</style>\n",
              "<table border=\"1\" class=\"dataframe\">\n",
              "  <thead>\n",
              "    <tr style=\"text-align: right;\">\n",
              "      <th></th>\n",
              "      <th>DATE</th>\n",
              "      <th>TARIF</th>\n",
              "      <th>NAME</th>\n",
              "      <th>COLOR</th>\n",
              "      <th>CAR</th>\n",
              "      <th>CAR_MODEL</th>\n",
              "      <th>NUMBER</th>\n",
              "    </tr>\n",
              "  </thead>\n",
              "  <tbody>\n",
              "    <tr>\n",
              "      <th>925</th>\n",
              "      <td>2017-10-11 09:40:00</td>\n",
              "      <td>Economy</td>\n",
              "      <td>Igor'</td>\n",
              "      <td>Yellow</td>\n",
              "      <td>Hyundai</td>\n",
              "      <td>i40</td>\n",
              "      <td>ВЕ20377</td>\n",
              "    </tr>\n",
              "    <tr>\n",
              "      <th>151</th>\n",
              "      <td>2020-04-16 12:38:00</td>\n",
              "      <td>Comfort+</td>\n",
              "      <td>Igor'</td>\n",
              "      <td>Yellow</td>\n",
              "      <td>Toyota</td>\n",
              "      <td>Camry</td>\n",
              "      <td>МТ67877</td>\n",
              "    </tr>\n",
              "    <tr>\n",
              "      <th>902</th>\n",
              "      <td>2018-04-11 09:50:00</td>\n",
              "      <td>Economy</td>\n",
              "      <td>Ivan</td>\n",
              "      <td>Yellow</td>\n",
              "      <td>Kia</td>\n",
              "      <td>Rio</td>\n",
              "      <td>РС67077</td>\n",
              "    </tr>\n",
              "    <tr>\n",
              "      <th>138</th>\n",
              "      <td>2020-04-17 14:22:00</td>\n",
              "      <td>Comfort+</td>\n",
              "      <td>Ivan</td>\n",
              "      <td>Yellow</td>\n",
              "      <td>Kia</td>\n",
              "      <td>Optima</td>\n",
              "      <td>МН58777</td>\n",
              "    </tr>\n",
              "  </tbody>\n",
              "</table>\n",
              "</div>"
            ],
            "text/plain": [
              "                   DATE     TARIF   NAME   COLOR      CAR CAR_MODEL   NUMBER\n",
              "925 2017-10-11 09:40:00   Economy  Igor'  Yellow  Hyundai       i40  ВЕ20377\n",
              "151 2020-04-16 12:38:00  Comfort+  Igor'  Yellow   Toyota     Camry  МТ67877\n",
              "902 2018-04-11 09:50:00   Economy   Ivan  Yellow      Kia       Rio  РС67077\n",
              "138 2020-04-17 14:22:00  Comfort+   Ivan  Yellow      Kia    Optima  МН58777"
            ]
          },
          "metadata": {
            "tags": []
          },
          "execution_count": 64
        }
      ]
    },
    {
      "cell_type": "markdown",
      "metadata": {
        "id": "vpfFiN0t7B9Q"
      },
      "source": [
        "How may time did I ride the same car?"
      ]
    },
    {
      "cell_type": "code",
      "metadata": {
        "id": "1iVMyjEBjKL5"
      },
      "source": [
        "df_cars = pd.DataFrame(columns=('Year', 'Delta_days', 'Same_driver', 'Car', 'Car_model', 'Number','Tarif'))\n",
        "m = df['NUMBER'].value_counts()\n",
        "for number in m[m.values == 2].keys():\n",
        "  ind = df[df['NUMBER'] == number].index\n",
        "  tarif = df['TARIF'][ind[1]]\n",
        "  year = pd.to_datetime(df['DATE'][ind[0]]).year\n",
        "  time_left = abs((pd.to_datetime(df['DATE'][ind[0]]) - pd.to_datetime(df['DATE'][ind[1]])).days)\n",
        "  same_driver = df['DRIVER'][ind[0]] == df['DRIVER'][ind[1]]\n",
        "  df_cars = df_cars.append({'Year':year, \n",
        "                            'Delta_days':time_left, \n",
        "                            'Same_driver':same_driver, \n",
        "                            'Car':df['CAR'][ind[0]], \n",
        "                            'Car_model':df['CAR_MODEL'][ind[0]], \n",
        "                            'Number':df['NUMBER'][ind[0]], \n",
        "                            'Tarif':tarif}, \n",
        "                           ignore_index=True)\n",
        "df_cars['Tarif'] = df_cars['Tarif'].apply(lambda x: tarif_translate[x])"
      ],
      "execution_count": 65,
      "outputs": []
    },
    {
      "cell_type": "markdown",
      "metadata": {
        "id": "BYJGNIfV7zif"
      },
      "source": [
        "There are more reappearing cars than drivers. There seems to be fewer cars on roads than drivers. Some drivers seem to work on the same car."
      ]
    },
    {
      "cell_type": "code",
      "metadata": {
        "colab": {
          "base_uri": "https://localhost:8080/",
          "height": 979
        },
        "id": "d1KiC8KrkYS4",
        "outputId": "37193cb0-a984-4198-902e-09a305697d9d"
      },
      "source": [
        "df_cars"
      ],
      "execution_count": 66,
      "outputs": [
        {
          "output_type": "execute_result",
          "data": {
            "text/html": [
              "<div>\n",
              "<style scoped>\n",
              "    .dataframe tbody tr th:only-of-type {\n",
              "        vertical-align: middle;\n",
              "    }\n",
              "\n",
              "    .dataframe tbody tr th {\n",
              "        vertical-align: top;\n",
              "    }\n",
              "\n",
              "    .dataframe thead th {\n",
              "        text-align: right;\n",
              "    }\n",
              "</style>\n",
              "<table border=\"1\" class=\"dataframe\">\n",
              "  <thead>\n",
              "    <tr style=\"text-align: right;\">\n",
              "      <th></th>\n",
              "      <th>Year</th>\n",
              "      <th>Delta_days</th>\n",
              "      <th>Same_driver</th>\n",
              "      <th>Car</th>\n",
              "      <th>Car_model</th>\n",
              "      <th>Number</th>\n",
              "      <th>Tarif</th>\n",
              "    </tr>\n",
              "  </thead>\n",
              "  <tbody>\n",
              "    <tr>\n",
              "      <th>0</th>\n",
              "      <td>2017</td>\n",
              "      <td>37</td>\n",
              "      <td>True</td>\n",
              "      <td>Skoda</td>\n",
              "      <td>Rapid</td>\n",
              "      <td>ХХ05477</td>\n",
              "      <td>Economy</td>\n",
              "    </tr>\n",
              "    <tr>\n",
              "      <th>1</th>\n",
              "      <td>2017</td>\n",
              "      <td>63</td>\n",
              "      <td>False</td>\n",
              "      <td>Hyundai</td>\n",
              "      <td>i40</td>\n",
              "      <td>ВЕ20377</td>\n",
              "      <td>Economy</td>\n",
              "    </tr>\n",
              "    <tr>\n",
              "      <th>2</th>\n",
              "      <td>2019</td>\n",
              "      <td>524</td>\n",
              "      <td>True</td>\n",
              "      <td>Toyota</td>\n",
              "      <td>Camry</td>\n",
              "      <td>РР37677</td>\n",
              "      <td>Comfort+</td>\n",
              "    </tr>\n",
              "    <tr>\n",
              "      <th>3</th>\n",
              "      <td>2020</td>\n",
              "      <td>0</td>\n",
              "      <td>True</td>\n",
              "      <td>Kia</td>\n",
              "      <td>Optima</td>\n",
              "      <td>МР29477</td>\n",
              "      <td>Comfort+</td>\n",
              "    </tr>\n",
              "    <tr>\n",
              "      <th>4</th>\n",
              "      <td>2017</td>\n",
              "      <td>148</td>\n",
              "      <td>False</td>\n",
              "      <td>Kia</td>\n",
              "      <td>Rio</td>\n",
              "      <td>УВ10177</td>\n",
              "      <td>Economy</td>\n",
              "    </tr>\n",
              "    <tr>\n",
              "      <th>5</th>\n",
              "      <td>2019</td>\n",
              "      <td>201</td>\n",
              "      <td>False</td>\n",
              "      <td>Kia</td>\n",
              "      <td>Optima</td>\n",
              "      <td>НО04477</td>\n",
              "      <td>Comfort+</td>\n",
              "    </tr>\n",
              "    <tr>\n",
              "      <th>6</th>\n",
              "      <td>2020</td>\n",
              "      <td>16</td>\n",
              "      <td>True</td>\n",
              "      <td>Kia</td>\n",
              "      <td>Optima</td>\n",
              "      <td>ОХ94077</td>\n",
              "      <td>Comfort+</td>\n",
              "    </tr>\n",
              "    <tr>\n",
              "      <th>7</th>\n",
              "      <td>2017</td>\n",
              "      <td>72</td>\n",
              "      <td>False</td>\n",
              "      <td>Nissan</td>\n",
              "      <td>Almera</td>\n",
              "      <td>КО53277</td>\n",
              "      <td>Economy</td>\n",
              "    </tr>\n",
              "    <tr>\n",
              "      <th>8</th>\n",
              "      <td>2020</td>\n",
              "      <td>266</td>\n",
              "      <td>False</td>\n",
              "      <td>Hyundai</td>\n",
              "      <td>Sonata</td>\n",
              "      <td>ОА59477</td>\n",
              "      <td>Comfort+</td>\n",
              "    </tr>\n",
              "    <tr>\n",
              "      <th>9</th>\n",
              "      <td>2018</td>\n",
              "      <td>323</td>\n",
              "      <td>False</td>\n",
              "      <td>Hyundai</td>\n",
              "      <td>Solaris</td>\n",
              "      <td>АО20999</td>\n",
              "      <td>Economy</td>\n",
              "    </tr>\n",
              "    <tr>\n",
              "      <th>10</th>\n",
              "      <td>2017</td>\n",
              "      <td>24</td>\n",
              "      <td>False</td>\n",
              "      <td>Kia</td>\n",
              "      <td>Cee'd</td>\n",
              "      <td>АР97999</td>\n",
              "      <td>Economy</td>\n",
              "    </tr>\n",
              "    <tr>\n",
              "      <th>11</th>\n",
              "      <td>2019</td>\n",
              "      <td>81</td>\n",
              "      <td>True</td>\n",
              "      <td>Kia</td>\n",
              "      <td>Optima</td>\n",
              "      <td>ОХ38377</td>\n",
              "      <td>Comfort+</td>\n",
              "    </tr>\n",
              "    <tr>\n",
              "      <th>12</th>\n",
              "      <td>2020</td>\n",
              "      <td>6</td>\n",
              "      <td>True</td>\n",
              "      <td>Kia</td>\n",
              "      <td>Optima</td>\n",
              "      <td>СВ17377</td>\n",
              "      <td>Comfort+</td>\n",
              "    </tr>\n",
              "    <tr>\n",
              "      <th>13</th>\n",
              "      <td>2018</td>\n",
              "      <td>84</td>\n",
              "      <td>True</td>\n",
              "      <td>Renault</td>\n",
              "      <td>Fluence</td>\n",
              "      <td>ТУ16577</td>\n",
              "      <td>Economy</td>\n",
              "    </tr>\n",
              "    <tr>\n",
              "      <th>14</th>\n",
              "      <td>2019</td>\n",
              "      <td>25</td>\n",
              "      <td>True</td>\n",
              "      <td>Kia</td>\n",
              "      <td>Optima</td>\n",
              "      <td>Р275АЕ799</td>\n",
              "      <td>Comfort+</td>\n",
              "    </tr>\n",
              "    <tr>\n",
              "      <th>15</th>\n",
              "      <td>2018</td>\n",
              "      <td>202</td>\n",
              "      <td>False</td>\n",
              "      <td>Hyundai</td>\n",
              "      <td>i30</td>\n",
              "      <td>ХУ81777</td>\n",
              "      <td>Economy</td>\n",
              "    </tr>\n",
              "    <tr>\n",
              "      <th>16</th>\n",
              "      <td>2018</td>\n",
              "      <td>94</td>\n",
              "      <td>True</td>\n",
              "      <td>Hyundai</td>\n",
              "      <td>Solaris</td>\n",
              "      <td>ХУ41577</td>\n",
              "      <td>Economy</td>\n",
              "    </tr>\n",
              "    <tr>\n",
              "      <th>17</th>\n",
              "      <td>2020</td>\n",
              "      <td>0</td>\n",
              "      <td>True</td>\n",
              "      <td>Kia</td>\n",
              "      <td>Optima</td>\n",
              "      <td>ТР28077</td>\n",
              "      <td>Comfort+</td>\n",
              "    </tr>\n",
              "    <tr>\n",
              "      <th>18</th>\n",
              "      <td>2018</td>\n",
              "      <td>56</td>\n",
              "      <td>False</td>\n",
              "      <td>Volkswagen</td>\n",
              "      <td>Polo</td>\n",
              "      <td>КУ09877</td>\n",
              "      <td>Economy</td>\n",
              "    </tr>\n",
              "    <tr>\n",
              "      <th>19</th>\n",
              "      <td>2020</td>\n",
              "      <td>133</td>\n",
              "      <td>False</td>\n",
              "      <td>Hyundai</td>\n",
              "      <td>Sonata</td>\n",
              "      <td>ОХ19377</td>\n",
              "      <td>Comfort+</td>\n",
              "    </tr>\n",
              "    <tr>\n",
              "      <th>20</th>\n",
              "      <td>2019</td>\n",
              "      <td>0</td>\n",
              "      <td>True</td>\n",
              "      <td>Kia</td>\n",
              "      <td>Optima</td>\n",
              "      <td>РО01677</td>\n",
              "      <td>Comfort+</td>\n",
              "    </tr>\n",
              "    <tr>\n",
              "      <th>21</th>\n",
              "      <td>2018</td>\n",
              "      <td>111</td>\n",
              "      <td>False</td>\n",
              "      <td>Volkswagen</td>\n",
              "      <td>Polo</td>\n",
              "      <td>КК22277</td>\n",
              "      <td>Economy</td>\n",
              "    </tr>\n",
              "    <tr>\n",
              "      <th>22</th>\n",
              "      <td>2020</td>\n",
              "      <td>11</td>\n",
              "      <td>True</td>\n",
              "      <td>Toyota</td>\n",
              "      <td>Camry</td>\n",
              "      <td>МТ78177</td>\n",
              "      <td>Comfort+</td>\n",
              "    </tr>\n",
              "    <tr>\n",
              "      <th>23</th>\n",
              "      <td>2020</td>\n",
              "      <td>379</td>\n",
              "      <td>False</td>\n",
              "      <td>Toyota</td>\n",
              "      <td>Camry</td>\n",
              "      <td>РК17677</td>\n",
              "      <td>Comfort+</td>\n",
              "    </tr>\n",
              "    <tr>\n",
              "      <th>24</th>\n",
              "      <td>2019</td>\n",
              "      <td>296</td>\n",
              "      <td>False</td>\n",
              "      <td>Skoda</td>\n",
              "      <td>Rapid</td>\n",
              "      <td>ОН16777</td>\n",
              "      <td>Economy</td>\n",
              "    </tr>\n",
              "    <tr>\n",
              "      <th>25</th>\n",
              "      <td>2017</td>\n",
              "      <td>56</td>\n",
              "      <td>False</td>\n",
              "      <td>Kia</td>\n",
              "      <td>Rio</td>\n",
              "      <td>ТС85977</td>\n",
              "      <td>Economy</td>\n",
              "    </tr>\n",
              "    <tr>\n",
              "      <th>26</th>\n",
              "      <td>2018</td>\n",
              "      <td>336</td>\n",
              "      <td>False</td>\n",
              "      <td>Volkswagen</td>\n",
              "      <td>Polo</td>\n",
              "      <td>КУ59777</td>\n",
              "      <td>Economy</td>\n",
              "    </tr>\n",
              "    <tr>\n",
              "      <th>27</th>\n",
              "      <td>2018</td>\n",
              "      <td>59</td>\n",
              "      <td>True</td>\n",
              "      <td>Volkswagen</td>\n",
              "      <td>Polo</td>\n",
              "      <td>АХ85499</td>\n",
              "      <td>Economy</td>\n",
              "    </tr>\n",
              "    <tr>\n",
              "      <th>28</th>\n",
              "      <td>2020</td>\n",
              "      <td>127</td>\n",
              "      <td>True</td>\n",
              "      <td>Kia</td>\n",
              "      <td>Optima</td>\n",
              "      <td>РЕ59677</td>\n",
              "      <td>Comfort+</td>\n",
              "    </tr>\n",
              "    <tr>\n",
              "      <th>29</th>\n",
              "      <td>2018</td>\n",
              "      <td>428</td>\n",
              "      <td>False</td>\n",
              "      <td>Hyundai</td>\n",
              "      <td>Solaris</td>\n",
              "      <td>УК58577</td>\n",
              "      <td>Economy</td>\n",
              "    </tr>\n",
              "  </tbody>\n",
              "</table>\n",
              "</div>"
            ],
            "text/plain": [
              "    Year Delta_days Same_driver         Car Car_model     Number     Tarif\n",
              "0   2017         37        True       Skoda     Rapid    ХХ05477   Economy\n",
              "1   2017         63       False     Hyundai       i40    ВЕ20377   Economy\n",
              "2   2019        524        True      Toyota     Camry    РР37677  Comfort+\n",
              "3   2020          0        True         Kia    Optima    МР29477  Comfort+\n",
              "4   2017        148       False         Kia       Rio    УВ10177   Economy\n",
              "5   2019        201       False         Kia    Optima    НО04477  Comfort+\n",
              "6   2020         16        True         Kia    Optima    ОХ94077  Comfort+\n",
              "7   2017         72       False      Nissan    Almera    КО53277   Economy\n",
              "8   2020        266       False     Hyundai    Sonata    ОА59477  Comfort+\n",
              "9   2018        323       False     Hyundai   Solaris    АО20999   Economy\n",
              "10  2017         24       False         Kia     Cee'd    АР97999   Economy\n",
              "11  2019         81        True         Kia    Optima    ОХ38377  Comfort+\n",
              "12  2020          6        True         Kia    Optima    СВ17377  Comfort+\n",
              "13  2018         84        True     Renault   Fluence    ТУ16577   Economy\n",
              "14  2019         25        True         Kia    Optima  Р275АЕ799  Comfort+\n",
              "15  2018        202       False     Hyundai       i30    ХУ81777   Economy\n",
              "16  2018         94        True     Hyundai   Solaris    ХУ41577   Economy\n",
              "17  2020          0        True         Kia    Optima    ТР28077  Comfort+\n",
              "18  2018         56       False  Volkswagen      Polo    КУ09877   Economy\n",
              "19  2020        133       False     Hyundai    Sonata    ОХ19377  Comfort+\n",
              "20  2019          0        True         Kia    Optima    РО01677  Comfort+\n",
              "21  2018        111       False  Volkswagen      Polo    КК22277   Economy\n",
              "22  2020         11        True      Toyota     Camry    МТ78177  Comfort+\n",
              "23  2020        379       False      Toyota     Camry    РК17677  Comfort+\n",
              "24  2019        296       False       Skoda     Rapid    ОН16777   Economy\n",
              "25  2017         56       False         Kia       Rio    ТС85977   Economy\n",
              "26  2018        336       False  Volkswagen      Polo    КУ59777   Economy\n",
              "27  2018         59        True  Volkswagen      Polo    АХ85499   Economy\n",
              "28  2020        127        True         Kia    Optima    РЕ59677  Comfort+\n",
              "29  2018        428       False     Hyundai   Solaris    УК58577   Economy"
            ]
          },
          "metadata": {
            "tags": []
          },
          "execution_count": 66
        }
      ]
    },
    {
      "cell_type": "code",
      "metadata": {
        "colab": {
          "base_uri": "https://localhost:8080/",
          "height": 279
        },
        "id": "79QHd4QMmuCW",
        "outputId": "a6948d6e-a218-4b21-d29d-f26bf52426eb"
      },
      "source": [
        "#@title After more than a year there still is a possibility to drive the same car.\n",
        "plt.hist(df_cars['Delta_days'])\n",
        "#plt.xlim((0,450))\n",
        "plt.grid(which='major', axis='both')\n",
        "plt.xlabel('Time between to rides on the same car (Days)')\n",
        "plt.ylabel('Number of rides')\n",
        "plt.show()"
      ],
      "execution_count": 67,
      "outputs": [
        {
          "output_type": "display_data",
          "data": {
            "image/png": "[encoded data removed]",
            "text/plain": [
              "<Figure size 432x288 with 1 Axes>"
            ]
          },
          "metadata": {
            "tags": [],
            "needs_background": "light"
          }
        }
      ]
    },
    {
      "cell_type": "markdown",
      "metadata": {
        "id": "xSdLvyXb55Lg"
      },
      "source": [
        "### Let's try to get some more data "
      ]
    },
    {
      "cell_type": "markdown",
      "metadata": {
        "id": "iTN6MZXD6paH"
      },
      "source": [
        "Two main points:"
      ]
    },
    {
      "cell_type": "markdown",
      "metadata": {
        "id": "MrK98aBqTqf2"
      },
      "source": [
        "Let $p_c$ be the pobability to brake down in 1 day. Then probabillity to ride the same car on the day m after the first ride $P = \\frac{1}{N}(1-p_c)^m$ After summation of the series one can get the probabllity of a ride on the same car at any day $\\frac{1}{N * p_c} = \\frac{29}{1346}$"
      ]
    },
    {
      "cell_type": "markdown",
      "metadata": {
        "id": "Bqgpyp7JHUKV"
      },
      "source": [
        "Probability to ride the same car during time from day m to day m+n:\n",
        "\n",
        " $\\frac{(1-p_c)^m}{N}*\\frac{1-(1-p_c)^{m+n}}{p_c}$\n",
        "\n"
      ]
    },
    {
      "cell_type": "markdown",
      "metadata": {
        "id": "90_R1QWK7iwJ"
      },
      "source": [
        "Let's try to estimate the number of cars in Moscosw and duration of their operation cycle using these formulas.\n",
        "The shape of a histogramm, representing times berween two rides on the same car allows us to estimate the duration of their use, and a number of double rides tells us the number of taxis in town."
      ]
    },
    {
      "cell_type": "code",
      "metadata": {
        "id": "TgecCrm5eSoq"
      },
      "source": [
        "count, division = np.histogram(list(df_cars['Delta_days']),bins=12, range=(0,600))\n",
        "total_num = df.shape[0]\n",
        "num_double = df_cars.shape[0]\n",
        "count_prob = count/total_num"
      ],
      "execution_count": 68,
      "outputs": []
    },
    {
      "cell_type": "code",
      "metadata": {
        "id": "e9Rp-9kjEmvY"
      },
      "source": [
        "# Probability of second rite to occur between days x to х+50\n",
        "def range_pos(x, prob):\n",
        "  a = num_double/total_num\n",
        "  p1 = (1-prob)\n",
        "  b = a*(p1**50)\n",
        "  return (a*(p1**x))-(b*(p1**(2*x)))"
      ],
      "execution_count": 69,
      "outputs": []
    },
    {
      "cell_type": "markdown",
      "metadata": {
        "id": "Y4qRvZaE8uXW"
      },
      "source": [
        "Let's try to pick such $p_c$ to make predicted histogram mach the real data. Keeping in mind, that I usually have a second ride in the middle of cars' operation cycle, we need to corrct the outcome correspondingly."
      ]
    },
    {
      "cell_type": "code",
      "metadata": {
        "id": "F6uW4ZJhjlk2"
      },
      "source": [
        "def loss(p,c):\n",
        "  s = 0\n",
        "  for i in range(0,len(c)):\n",
        "    s += (range_pos(50*i,p)-c[i])**2\n",
        "  return s"
      ],
      "execution_count": 70,
      "outputs": []
    },
    {
      "cell_type": "code",
      "metadata": {
        "colab": {
          "base_uri": "https://localhost:8080/",
          "height": 296
        },
        "id": "eY1BrRGHE35G",
        "outputId": "2665e663-3a09-4a0f-dbf9-d807baf2e716"
      },
      "source": [
        "fun = lambda x : loss(x,count_prob)\n",
        "res = minimize(fun,0.005)\n",
        "P_b = 1-(1-res['x'][0])**0.5\n",
        "Y = [range_pos(x*50,res['x'][0]) for x in range(0,12)]\n",
        "X = [x*50 for x in range(0,12)]\n",
        "plt.plot(X,Y, label = 'Model')\n",
        "plt.scatter(X,count_prob, label = 'Data')\n",
        "plt.xlabel('Time between to rides on the same car (Days)')\n",
        "plt.ylabel('Number of rides')\n",
        "plt.legend()\n",
        "plt.show()\n",
        "print('p = ', P_b)"
      ],
      "execution_count": 72,
      "outputs": [
        {
          "output_type": "display_data",
          "data": {
            "image/png": "[encoded data removed]",
            "text/plain": [
              "<Figure size 432x288 with 1 Axes>"
            ]
          },
          "metadata": {
            "tags": [],
            "needs_background": "light"
          }
        },
        {
          "output_type": "stream",
          "text": [
            "p =  0.006235969692695131\n"
          ],
          "name": "stdout"
        }
      ]
    },
    {
      "cell_type": "code",
      "metadata": {
        "colab": {
          "base_uri": "https://localhost:8080/"
        },
        "id": "HuNWOU9tl-tC",
        "outputId": "db5cd75d-d3f4-4ad4-bab0-36098b0ac34a"
      },
      "source": [
        "N = total_num/(P_b*num_double)\n",
        "t = np.log(1-(0.8))/np.log(1-P_b)\n",
        "print('Number of cars in Moscow - {} \\nOperation cycle - {} days'.format(int(N),int(t)))"
      ],
      "execution_count": 73,
      "outputs": [
        {
          "output_type": "stream",
          "text": [
            "Number of cars in Moscow - 7194 \n",
            "Operation cycle - 257 days\n"
          ],
          "name": "stdout"
        }
      ]
    },
    {
      "cell_type": "code",
      "metadata": {
        "id": "SZTTs56N-d3W"
      },
      "source": [
        "count, division = np.histogram(list(df_drivers['Delta_days']),bins=18, range=(0,900))\n",
        "total_num = df.shape[0]\n",
        "num_double = df_drivers.shape[0]\n",
        "count_prob = count/total_num"
      ],
      "execution_count": 75,
      "outputs": []
    },
    {
      "cell_type": "code",
      "metadata": {
        "colab": {
          "base_uri": "https://localhost:8080/",
          "height": 296
        },
        "id": "jFBka5Ip-wKT",
        "outputId": "9b648bb7-61f6-4bcf-a553-70a90a8d76b6"
      },
      "source": [
        "fun = lambda x : loss(x,count_prob)\n",
        "res = minimize(fun,0.005)\n",
        "P_b = 1-(1-res['x'][0])**0.5\n",
        "Y = [range_pos(x*50,res['x'][0]) for x in range(0,18)]\n",
        "X = [x*50 for x in range(0,18)]\n",
        "plt.plot(X,Y, label = 'Model')\n",
        "plt.scatter(X,count_prob, label = 'Data')\n",
        "plt.xlabel('Time between to rides with the same driver (Days)')\n",
        "plt.ylabel('Number of rides')\n",
        "plt.legend()\n",
        "plt.show()\n",
        "print('p = ', P_b)"
      ],
      "execution_count": 76,
      "outputs": [
        {
          "output_type": "display_data",
          "data": {
            "image/png": "[encoded data removed]",
            "text/plain": [
              "<Figure size 432x288 with 1 Axes>"
            ]
          },
          "metadata": {
            "tags": [],
            "needs_background": "light"
          }
        },
        {
          "output_type": "stream",
          "text": [
            "p =  0.007648373097994043\n"
          ],
          "name": "stdout"
        }
      ]
    },
    {
      "cell_type": "code",
      "metadata": {
        "colab": {
          "base_uri": "https://localhost:8080/"
        },
        "id": "nU4pDILo-0kr",
        "outputId": "78998ef2-d97c-4ae9-ad6a-6bdf430c05d9"
      },
      "source": [
        "N = total_num/(P_b*num_double)\n",
        "t = np.log(1-(0.8))/np.log(1-P_b)\n",
        "print('Number of drivers in Moscow - {} \\nOne driver on average works for - {} days'.format(int(N),int(t)))"
      ],
      "execution_count": 77,
      "outputs": [
        {
          "output_type": "stream",
          "text": [
            "Number of drivers in Moscow - 7039 \n",
            "One driver on average works for - 209 days\n"
          ],
          "name": "stdout"
        }
      ]
    },
    {
      "cell_type": "markdown",
      "metadata": {
        "id": "yxY-U_cG_NV_"
      },
      "source": [
        "As expected, there are fewer drivers than cars. But the difference is not that big.\n",
        "Also, drivers retire sooner than cars."
      ]
    }
  ]
}